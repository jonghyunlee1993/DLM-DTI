{
 "cells": [
  {
   "cell_type": "code",
   "execution_count": 1,
   "id": "62e84f05",
   "metadata": {},
   "outputs": [
    {
     "name": "stderr",
     "output_type": "stream",
     "text": [
      "Some weights of the model checkpoint at Rostlab/prot_bert were not used when initializing BertModel: ['cls.predictions.bias', 'cls.predictions.transform.LayerNorm.weight', 'cls.predictions.transform.LayerNorm.bias', 'cls.predictions.transform.dense.bias', 'cls.seq_relationship.bias', 'cls.predictions.decoder.bias', 'cls.predictions.decoder.weight', 'cls.predictions.transform.dense.weight', 'cls.seq_relationship.weight']\n",
      "- This IS expected if you are initializing BertModel from the checkpoint of a model trained on another task or with another architecture (e.g. initializing a BertForSequenceClassification model from a BertForPreTraining model).\n",
      "- This IS NOT expected if you are initializing BertModel from the checkpoint of a model that you expect to be exactly identical (initializing a BertForSequenceClassification model from a BertForSequenceClassification model).\n"
     ]
    },
    {
     "name": "stdout",
     "output_type": "stream",
     "text": [
      "\n"
     ]
    }
   ],
   "source": [
    "import glob\n",
    "import torch\n",
    "import pickle\n",
    "import numpy as np\n",
    "import pandas as pd\n",
    "from tqdm import tqdm\n",
    "from tdc.multi_pred import DTI\n",
    "from transformers import AutoTokenizer, AutoModel\n",
    "\n",
    "mol_tokenizer = AutoTokenizer.from_pretrained(\"jonghyunlee/DrugLikeMoleculeBERT\")\n",
    "mol_encoder = AutoModel.from_pretrained(\"jonghyunlee/DrugLikeMoleculeBERT\")\n",
    "mol_encoder.to(\"cuda\")\n",
    "mol_encoder.eval()\n",
    "\n",
    "prot_tokenizer = AutoTokenizer.from_pretrained(\"Rostlab/prot_bert\", do_lower_case=False)\n",
    "prot_encoder = AutoModel.from_pretrained(\"Rostlab/prot_bert\")\n",
    "prot_encoder.to(\"cuda\")\n",
    "prot_encoder.eval()\n",
    "\n",
    "print()"
   ]
  },
  {
   "cell_type": "code",
   "execution_count": 2,
   "id": "67c5ba73",
   "metadata": {},
   "outputs": [],
   "source": [
    "def preproc_kiba():\n",
    "    kiba = DTI(name=\"kiba\").get_split()\n",
    "\n",
    "    def gen_label(sub_df):\n",
    "        sub_df.loc[:, \"Label\"] = sub_df.Y.map(lambda x: 1 if x >= 12.1 else 0)\n",
    "        sub_df = sub_df.loc[:, [\"Drug\", \"Target\", \"Label\", \"Y\"]]\n",
    "        sub_df.columns = [\"SMILES\", \"Target Sequence\", \"Label\", \"Y\"]\n",
    "        return sub_df\n",
    "    \n",
    "    kiba_train = gen_label(kiba['train'])\n",
    "    kiba_valid = gen_label(kiba['train'])\n",
    "    kiba_test = gen_label(kiba['train'])\n",
    "\n",
    "    kiba_train.to_csv(\"data/mol_trans/KIBA_train.csv\", index=False)\n",
    "    kiba_valid.to_csv(\"data/mol_trans/KIBA_valid.csv\", index=False)\n",
    "    kiba_test.to_csv(\"data/mol_trans/KIBA_test.csv\", index=False)\n",
    "    \n",
    "# preproc_kiba()"
   ]
  },
  {
   "cell_type": "code",
   "execution_count": 3,
   "id": "3b7a191c",
   "metadata": {
    "scrolled": false
   },
   "outputs": [],
   "source": [
    "def get_unique(fname_filter):\n",
    "    flist = glob.glob(fname_filter)\n",
    "    df = pd.DataFrame()\n",
    "    \n",
    "    for f in flist:\n",
    "        df_ = pd.read_csv(f)\n",
    "        df = df.append(df_)\n",
    "    \n",
    "    mols = df[\"SMILES\"].drop_duplicates().reset_index(drop=True)\n",
    "    prots = df[\"Target Sequence\"].drop_duplicates().reset_index(drop=True)\n",
    "    \n",
    "    return mols, prots\n",
    "\n",
    "davis = \"data/mol_trans/DAVIS*.csv\"\n",
    "davis_mols, davis_prots = get_unique(davis)\n",
    "\n",
    "binding = \"data/mol_trans/BindingDB*.csv\"\n",
    "binding_mols, binding_prots = get_unique(binding)\n",
    "\n",
    "# kiba = \"data/mol_trans/KIBA*.csv\"\n",
    "# kiba_mols, kiba_prots = get_unique(kiba)\n",
    "\n",
    "biosnap = \"data/mol_trans/BIOSNAP*.csv\"\n",
    "biosnap_mols, biosnap_prots = get_unique(biosnap)"
   ]
  },
  {
   "cell_type": "code",
   "execution_count": 21,
   "id": "15a77919",
   "metadata": {},
   "outputs": [],
   "source": [
    "prots = np.array([])\n",
    "\n",
    "for prot in [davis_prots, binding_prots, biosnap_prots]:\n",
    "    prots = np.append(prots, prot)\n",
    "    \n",
    "prots = np.unique(prots)\n",
    "prots = pd.DataFrame(prots, columns=['FASTA'])\n",
    "prots.iloc[-1, 0] = prots.iloc[-1, 0].upper()\n",
    "prots.to_csv(\"data/mol_trans/protein_sequences.csv\", index=False)"
   ]
  },
  {
   "cell_type": "code",
   "execution_count": 12,
   "id": "79479111",
   "metadata": {
    "scrolled": false
   },
   "outputs": [
    {
     "name": "stdout",
     "output_type": "stream",
     "text": [
      "davis_prots\n"
     ]
    },
    {
     "name": "stderr",
     "output_type": "stream",
     "text": [
      "100%|█████████████████████████████████████████| 379/379 [00:22<00:00, 17.14it/s]\n"
     ]
    },
    {
     "name": "stdout",
     "output_type": "stream",
     "text": [
      "binding_prots\n"
     ]
    },
    {
     "name": "stderr",
     "output_type": "stream",
     "text": [
      "100%|███████████████████████████████████████| 1254/1254 [01:14<00:00, 16.80it/s]\n"
     ]
    },
    {
     "name": "stdout",
     "output_type": "stream",
     "text": [
      "biosnap_prots\n"
     ]
    },
    {
     "name": "stderr",
     "output_type": "stream",
     "text": [
      "100%|███████████████████████████████████████| 2180/2180 [02:11<00:00, 16.58it/s]\n"
     ]
    }
   ],
   "source": [
    "def get_embeddings(df, fname, outfname, mode=\"mol\"):\n",
    "    cls_feature_dict = {}\n",
    "    full_feature_dict = {}\n",
    "    \n",
    "    print(fname)\n",
    "    for seq in tqdm(df, total=len(df)):\n",
    "        if mode == \"mol\":\n",
    "            name = seq[:10]\n",
    "            X = mol_tokenizer.encode_plus(\" \".join(seq) + \" [PAD]\" * (128-len(seq)), \n",
    "                                          return_tensors=\"pt\", max_length=128, truncation=True)\n",
    "            output = mol_encoder(**X.to(\"cuda\"))\n",
    "        elif mode == \"prot\":\n",
    "            name = seq[:30]\n",
    "            X = prot_tokenizer.encode_plus(\" \".join(seq) + \" [PAD]\" * (768-len(seq)), \n",
    "                                           return_tensors=\"pt\", max_length=768, truncation=True)\n",
    "            output = prot_encoder(**X.to(\"cuda\"))\n",
    "        \n",
    "        cls_feature_dict[name] = output[1].detach().to(\"cpu\")\n",
    "        full_feature_dict[name] = output[0].detach().to(\"cpu\")\n",
    "    \n",
    "    with open(\"data/mol_trans/\" + fname + \"_\" + outfname + \"_cls.pkl\", \"wb\") as f:\n",
    "        pickle.dump(cls_feature_dict, f)\n",
    "    \n",
    "    with open(\"data/mol_trans/\" + fname + \"_\" + outfname + \"_full.pkl\", \"wb\") as f:\n",
    "        pickle.dump(full_feature_dict, f)\n",
    "        \n",
    "        \n",
    "# get_embeddings(davis_mols, \"davis_mols\", \"mol\")\n",
    "# get_embeddings(kiba_mols, \"kiba_mols\", \"mol\")\n",
    "# get_embeddings(binding_mols, \"binding_mols\", \"mol\")\n",
    "# get_embeddings(biosnap_mols, \"biosnap_mols\", \"mol\")\n",
    "\n",
    "get_embeddings(davis_prots, \"davis_prots\", outfname=\"768\", mode=\"prot\")\n",
    "# get_embeddings(kiba_prots, \"kiba_prots\", outfname=\"512\", mode=\"prot\")\n",
    "get_embeddings(binding_prots, \"binding_prots\", outfname=\"768\", mode=\"prot\")\n",
    "get_embeddings(biosnap_prots, \"biosnap_prots\", outfname=\"768\", mode=\"prot\")"
   ]
  },
  {
   "cell_type": "code",
   "execution_count": 13,
   "id": "f6818a37",
   "metadata": {},
   "outputs": [],
   "source": [
    "def generate_merged_dict(flist, fname):\n",
    "    merged_dict = {}\n",
    "    \n",
    "    for file_name in flist:\n",
    "        with open(file_name, \"rb\") as f:\n",
    "            sub_dict = pickle.load(f)\n",
    "            \n",
    "        merged_dict.update(sub_dict)\n",
    "        \n",
    "    with open(\"data/mol_trans/\" + fname + \".pkl\", \"wb\") as f:\n",
    "        pickle.dump(merged_dict, f)\n",
    "\n",
    "# mols_cls_list = glob.glob(\"data/mol_trans/*_mols_cls.pkl\")\n",
    "# mols_full_list = glob.glob(\"data/mol_trans/*_mols_full.pkl\")\n",
    "prots_cls_list = glob.glob(\"data/mol_trans/*_prots_768_cls.pkl\")\n",
    "prots_full_list = glob.glob(\"data/mol_trans/*_prots_768_full.pkl\")\n",
    "\n",
    "# generate_merged_dict(mols_cls_list, \"mols_cls\")\n",
    "# generate_merged_dict(mols_full_list, \"mols_full\")\n",
    "generate_merged_dict(prots_cls_list, \"prots_768_cls\")\n",
    "generate_merged_dict(prots_full_list, \"prots_768_full\")"
   ]
  },
  {
   "cell_type": "code",
   "execution_count": 5,
   "id": "1ecab9c8",
   "metadata": {},
   "outputs": [
    {
     "name": "stderr",
     "output_type": "stream",
     "text": [
      "/tmp/ipykernel_20661/3543577661.py:7: FutureWarning: The frame.append method is deprecated and will be removed from pandas in a future version. Use pandas.concat instead.\n",
      "  df = df.append(df_)\n",
      "/tmp/ipykernel_20661/3543577661.py:7: FutureWarning: The frame.append method is deprecated and will be removed from pandas in a future version. Use pandas.concat instead.\n",
      "  df = df.append(df_)\n",
      "/tmp/ipykernel_20661/3543577661.py:7: FutureWarning: The frame.append method is deprecated and will be removed from pandas in a future version. Use pandas.concat instead.\n",
      "  df = df.append(df_)\n",
      "/tmp/ipykernel_20661/3543577661.py:7: FutureWarning: The frame.append method is deprecated and will be removed from pandas in a future version. Use pandas.concat instead.\n",
      "  df = df.append(df_)\n",
      "/tmp/ipykernel_20661/3543577661.py:7: FutureWarning: The frame.append method is deprecated and will be removed from pandas in a future version. Use pandas.concat instead.\n",
      "  df = df.append(df_)\n",
      "/tmp/ipykernel_20661/3543577661.py:7: FutureWarning: The frame.append method is deprecated and will be removed from pandas in a future version. Use pandas.concat instead.\n",
      "  df = df.append(df_)\n",
      "/tmp/ipykernel_20661/3543577661.py:7: FutureWarning: The frame.append method is deprecated and will be removed from pandas in a future version. Use pandas.concat instead.\n",
      "  df = df.append(df_)\n",
      "/tmp/ipykernel_20661/3543577661.py:7: FutureWarning: The frame.append method is deprecated and will be removed from pandas in a future version. Use pandas.concat instead.\n",
      "  df = df.append(df_)\n",
      "/tmp/ipykernel_20661/3543577661.py:7: FutureWarning: The frame.append method is deprecated and will be removed from pandas in a future version. Use pandas.concat instead.\n",
      "  df = df.append(df_)\n"
     ]
    }
   ],
   "source": [
    "def merge_dataset(flist, mode):\n",
    "    df = pd.DataFrame()\n",
    "    for i, f in enumerate(flist):\n",
    "        df_ = pd.read_csv(f)\n",
    "        df_.loc[:, \"Source\"] = i\n",
    "        \n",
    "        df = df.append(df_)\n",
    "    df.to_csv(f\"data/mol_trans/{mode}_dataset.csv\", index=False)\n",
    "    \n",
    "merge_dataset(glob.glob(\"data/mol_trans/*train.csv\")[:3], \"train\")\n",
    "merge_dataset(glob.glob(\"data/mol_trans/*valid.csv\")[:3], \"valid\")\n",
    "merge_dataset(glob.glob(\"data/mol_trans/*test.csv\")[:3], \"test\")"
   ]
  },
  {
   "cell_type": "code",
   "execution_count": 4,
   "id": "e844f797",
   "metadata": {},
   "outputs": [
    {
     "data": {
      "text/plain": [
       "['data/mol_trans/DAVIS_train.csv',\n",
       " 'data/mol_trans/BindingDB_train.csv',\n",
       " 'data/mol_trans/BIOSNAP_train.csv']"
      ]
     },
     "execution_count": 4,
     "metadata": {},
     "output_type": "execute_result"
    }
   ],
   "source": [
    "import glob\n",
    "import pandas as pd\n",
    "\n",
    "flist = glob.glob(\"data/mol_trans/*train.csv\")[:3]\n",
    "flist"
   ]
  },
  {
   "cell_type": "code",
   "execution_count": null,
   "id": "c47afabf",
   "metadata": {},
   "outputs": [],
   "source": []
  }
 ],
 "metadata": {
  "kernelspec": {
   "display_name": "Python 3 (ipykernel)",
   "language": "python",
   "name": "python3"
  },
  "language_info": {
   "codemirror_mode": {
    "name": "ipython",
    "version": 3
   },
   "file_extension": ".py",
   "mimetype": "text/x-python",
   "name": "python",
   "nbconvert_exporter": "python",
   "pygments_lexer": "ipython3",
   "version": "3.8.13"
  }
 },
 "nbformat": 4,
 "nbformat_minor": 5
}
